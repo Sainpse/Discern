{
 "cells": [
  {
   "cell_type": "markdown",
   "metadata": {
    "slideshow": {
     "slide_type": "slide"
    }
   },
   "source": [
    "### MNIST Digits Classification\n",
    "#### Author: Marcus Madumo\n",
    "\n"
   ]
  },
  {
   "cell_type": "code",
   "execution_count": 7,
   "metadata": {
    "ExecuteTime": {
     "end_time": "2018-07-29T15:28:45.314221Z",
     "start_time": "2018-07-29T15:28:39.298546Z"
    },
    "slideshow": {
     "slide_type": "fragment"
    }
   },
   "outputs": [],
   "source": [
    "import pandas as pd\n",
    "import pickle\n",
    "import scipy as sc\n",
    "from scipy import misc\n",
    "import os\n",
    "import random\n",
    "import numpy as np\n",
    "import matplotlib.pyplot as plt\n",
    "from NeuralNetworks import ANN\n",
    "\n",
    "dataPath_Train = os.path.join(\"..\", \"Datasets\",\"mnist\",\"mnist_train.csv\")\n",
    "dataPath_Test  = os.path.join(\"..\", \"Datasets\",\"mnist\",\"mnist_test.csv\")\n",
    "\n",
    "## Reading the csv into a dataframe  usually for cleaning and exploring the data \n",
    "# @--Better use machine learning studio--@\n",
    "df_Train = pd.read_csv(dataPath_Train, header=None)\n",
    "df_Test = pd.read_csv(dataPath_Test, header=None)\n",
    "\n",
    "\"\"\"\" \n",
    " Pre-Processing\n",
    " Convert into numpy array representation when all is preprocessed\n",
    " Y = labels\n",
    " X = Features\n",
    " transposing the matrices to make examples columns instead of rows\n",
    "\"\"\"\"\"\n",
    "Train = df_Train.as_matrix()\n",
    "Test  = df_Test.as_matrix()\n",
    "#Labels\n",
    "Y_Train = Train[0:,0]    \n",
    "Y_Test  = Test[0:,0]\n",
    "#Features\n",
    "X_Train = np.transpose(Train[:,1:])\n",
    "X_Test  = np.transpose(Test[:,1:])\n"
   ]
  },
  {
   "cell_type": "markdown",
   "metadata": {},
   "source": [
    "### Preview dimensions and feature values"
   ]
  },
  {
   "cell_type": "code",
   "execution_count": 2,
   "metadata": {
    "ExecuteTime": {
     "end_time": "2018-07-29T15:14:17.225151Z",
     "start_time": "2018-07-29T15:14:17.068945Z"
    }
   },
   "outputs": [
    {
     "name": "stdout",
     "output_type": "stream",
     "text": [
      "Preview of Labels Dimensions\n",
      "[5 0 4 ... 5 6 8]\n",
      "(60000,)\n",
      "Preview Features Dimensions\n",
      "[[0 0 0 ... 0 0 0]\n",
      " [0 0 0 ... 0 0 0]\n",
      " [0 0 0 ... 0 0 0]\n",
      " ...\n",
      " [0 0 0 ... 0 0 0]\n",
      " [0 0 0 ... 0 0 0]\n",
      " [0 0 0 ... 0 0 0]]\n",
      "(784, 60000)\n",
      "Sample\n"
     ]
    },
    {
     "data": {
      "text/plain": [
       "<matplotlib.image.AxesImage at 0x1d643317390>"
      ]
     },
     "execution_count": 2,
     "metadata": {},
     "output_type": "execute_result"
    },
    {
     "data": {
      "image/png": "[encoded data removed]",
      "text/plain": [
       "<matplotlib.figure.Figure at 0x1d63d068a90>"
      ]
     },
     "metadata": {},
     "output_type": "display_data"
    }
   ],
   "source": [
    "\n",
    "#Verify shapes\n",
    "print(\"Preview of Labels Dimensions\")\n",
    "print(Y_Train)\n",
    "print(np.shape(Y_Train))\n",
    "print(\"Preview Features Dimensions\")\n",
    "print(X_Train)\n",
    "print(np.shape(X_Train))\n",
    "#Viewing sample images\n",
    "sample = X_Train[:,5].reshape(28,28)\n",
    "print(\"Sample\")\n",
    "plt.imshow(sample)"
   ]
  },
  {
   "cell_type": "markdown",
   "metadata": {},
   "source": [
    "### Initializing Network \n",
    "Network Parameters\n",
    "The number of neurons and layers in a network is defined by a list layer_dims where the length encodes the number of layers\n",
    "and its elements as number of neurons"
   ]
  },
  {
   "cell_type": "code",
   "execution_count": 3,
   "metadata": {
    "ExecuteTime": {
     "end_time": "2018-07-29T15:14:17.240769Z",
     "start_time": "2018-07-29T15:14:17.225151Z"
    }
   },
   "outputs": [],
   "source": [
    "layer_dims = np.array([784,10,30,10])\n",
    "#Declaring a new neural network\n",
    "neuralnetwork = ANN(layer_dims,batch_size=1000,optimization=\"MBGD\")\n"
   ]
  },
  {
   "cell_type": "markdown",
   "metadata": {},
   "source": [
    "### Training"
   ]
  },
  {
   "cell_type": "code",
   "execution_count": 5,
   "metadata": {
    "ExecuteTime": {
     "end_time": "2018-07-29T15:17:30.666340Z",
     "start_time": "2018-07-29T15:14:52.634129Z"
    }
   },
   "outputs": [
    {
     "name": "stdout",
     "output_type": "stream",
     "text": [
      "Training ...\n",
      "Accuracy: 40.96266080639383\n",
      "cycle 0\n",
      "Accuracy: 91.35866682446124\n",
      "cycle 1000\n",
      "Accuracy: 97.52944165565509\n",
      "cycle 2000\n",
      "Accuracy: 98.87497897467597\n",
      "cycle 3000\n",
      "Accuracy: 99.33898059294901\n",
      "cycle 4000\n",
      "Accuracy: 99.55214882547004\n",
      "cycle 5000\n",
      "Accuracy: 99.66965464130415\n",
      "cycle 6000\n",
      "Accuracy: 99.74239779047858\n",
      "cycle 7000\n",
      "Accuracy: 99.79112909424222\n",
      "cycle 8000\n",
      "Accuracy: 99.82569251058544\n",
      "cycle 9000\n",
      "Final Training Accuracy: 99.85126231167528\n"
     ]
    }
   ],
   "source": [
    "print(\"Training ...\")\n",
    "Y_encoded = neuralnetwork.one_hot_encoding(Y_Train)\n",
    "neuralnetwork.train(X_Train,Y_encoded,10000, 0.001, print_count = 1000)"
   ]
  },
  {
   "cell_type": "markdown",
   "metadata": {},
   "source": [
    "### Test"
   ]
  },
  {
   "cell_type": "code",
   "execution_count": 19,
   "metadata": {
    "ExecuteTime": {
     "end_time": "2018-07-29T15:38:33.295106Z",
     "start_time": "2018-07-29T15:38:32.685742Z"
    },
    "code_folding": [],
    "scrolled": true
   },
   "outputs": [
    {
     "data": {
      "image/png": "[encoded data removed]",
      "text/plain": [
       "<matplotlib.figure.Figure at 0x1d6078bb080>"
      ]
     },
     "metadata": {},
     "output_type": "display_data"
    },
    {
     "name": "stdout",
     "output_type": "stream",
     "text": [
      "[[1.83718466e-07]\n",
      " [6.26556880e-19]\n",
      " [1.91789687e-13]\n",
      " [9.90051976e-01]\n",
      " [4.44981185e-22]\n",
      " [9.94769313e-03]\n",
      " [4.86255939e-18]\n",
      " [6.09922286e-18]\n",
      " [1.47132896e-07]\n",
      " [3.39814172e-12]]\n"
     ]
    },
    {
     "data": {
      "image/png": "[encoded data removed]",
      "text/plain": [
       "<matplotlib.figure.Figure at 0x1d6078a7e10>"
      ]
     },
     "metadata": {},
     "output_type": "display_data"
    },
    {
     "name": "stdout",
     "output_type": "stream",
     "text": [
      "[[7.21517892e-11]\n",
      " [3.53460832e-12]\n",
      " [7.28575348e-10]\n",
      " [9.92321063e-01]\n",
      " [1.43167938e-18]\n",
      " [4.09808283e-07]\n",
      " [3.04610927e-21]\n",
      " [5.71311745e-08]\n",
      " [7.67262431e-03]\n",
      " [5.84539937e-06]]\n"
     ]
    },
    {
     "data": {
      "image/png": "[encoded data removed]",
      "text/plain": [
       "<matplotlib.figure.Figure at 0x1d648473438>"
      ]
     },
     "metadata": {},
     "output_type": "display_data"
    },
    {
     "name": "stdout",
     "output_type": "stream",
     "text": [
      "[[1.54844810e-17]\n",
      " [2.41561586e-13]\n",
      " [8.58018287e-12]\n",
      " [2.78742726e-10]\n",
      " [1.31202781e-11]\n",
      " [6.66261148e-11]\n",
      " [5.30423848e-16]\n",
      " [1.77193614e-15]\n",
      " [9.99999989e-01]\n",
      " [1.03012523e-08]]\n"
     ]
    },
    {
     "data": {
      "image/png": "[encoded data removed]",
      "text/plain": [
       "<matplotlib.figure.Figure at 0x1d645480320>"
      ]
     },
     "metadata": {},
     "output_type": "display_data"
    },
    {
     "name": "stdout",
     "output_type": "stream",
     "text": [
      "[[2.18704694e-19]\n",
      " [9.99997330e-01]\n",
      " [5.80609570e-08]\n",
      " [2.39949686e-09]\n",
      " [7.16696204e-20]\n",
      " [5.95259330e-14]\n",
      " [6.01621529e-19]\n",
      " [4.84396021e-09]\n",
      " [2.60489966e-06]\n",
      " [8.41214367e-14]]\n"
     ]
    },
    {
     "data": {
      "image/png": "[encoded data removed]",
      "text/plain": [
       "<matplotlib.figure.Figure at 0x1d645411da0>"
      ]
     },
     "metadata": {},
     "output_type": "display_data"
    },
    {
     "name": "stdout",
     "output_type": "stream",
     "text": [
      "[[1.29653192e-11]\n",
      " [1.53204335e-23]\n",
      " [6.25203817e-25]\n",
      " [4.21098325e-14]\n",
      " [6.15095476e-15]\n",
      " [9.99999999e-01]\n",
      " [1.87399575e-14]\n",
      " [2.78018723e-21]\n",
      " [1.17641861e-09]\n",
      " [2.90972381e-17]]\n"
     ]
    }
   ],
   "source": [
    "#Viewing sample images\n",
    "samples = np.array([])\n",
    "samples = [X_Test[:,random.randint(0, X_Test.shape[1])] for i in range(5)]\n",
    "for s in samples:\n",
    "    plt.imshow(s.reshape(28,28))\n",
    "    plt.show()\n",
    "    print(neuralnetwork.predict(s.reshape(784,1)))"
   ]
  },
  {
   "cell_type": "markdown",
   "metadata": {},
   "source": [
    "### Plotting how the gradient improved over time for both batch and mini batch gradient descent"
   ]
  },
  {
   "cell_type": "code",
   "execution_count": 20,
   "metadata": {
    "ExecuteTime": {
     "end_time": "2018-07-29T15:38:57.951396Z",
     "start_time": "2018-07-29T15:38:57.638886Z"
    }
   },
   "outputs": [
    {
     "data": {
      "image/png": "[encoded data removed]",
      "text/plain": [
       "<matplotlib.figure.Figure at 0x1d64534efd0>"
      ]
     },
     "metadata": {},
     "output_type": "display_data"
    }
   ],
   "source": [
    "bgd_acc = pickle.load(open( \"BGD.pkl\", \"rb\"))\n",
    "mbgd_acc = pickle.load(open(\"MBGD.pkl\", \"rb\"))\n",
    "\n",
    "\n",
    "plt.plot(mbgd_acc, \"blue\", label=\"mbgd\")\n",
    "plt.plot(bgd_acc, \"orange\", label=\"bgd\")\n",
    "plt.legend(loc=\"upper right\")\n",
    "plt.show()"
   ]
  },
  {
   "cell_type": "code",
   "execution_count": null,
   "metadata": {},
   "outputs": [],
   "source": []
  }
 ],
 "metadata": {
  "anaconda-cloud": {},
  "kernelspec": {
   "display_name": "Python 3",
   "language": "python",
   "name": "python3"
  },
  "language_info": {
   "codemirror_mode": {
    "name": "ipython",
    "version": 3
   },
   "file_extension": ".py",
   "mimetype": "text/x-python",
   "name": "python",
   "nbconvert_exporter": "python",
   "pygments_lexer": "ipython3",
   "version": "3.6.4"
  },
  "toc": {
   "base_numbering": 1,
   "nav_menu": {},
   "number_sections": true,
   "sideBar": true,
   "skip_h1_title": false,
   "title_cell": "",
   "title_sidebar": "",
   "toc_cell": false,
   "toc_position": {},
   "toc_section_display": true,
   "toc_window_display": false
  },
  "varInspector": {
   "cols": {
    "lenName": 16,
    "lenType": 16,
    "lenVar": 40
   },
   "kernels_config": {
    "python": {
     "delete_cmd_postfix": "",
     "delete_cmd_prefix": "del ",
     "library": "var_list.py",
     "varRefreshCmd": "print(var_dic_list())"
    },
    "r": {
     "delete_cmd_postfix": ") ",
     "delete_cmd_prefix": "rm(",
     "library": "var_list.r",
     "varRefreshCmd": "cat(var_dic_list()) "
    }
   },
   "types_to_exclude": [
    "module",
    "function",
    "builtin_function_or_method",
    "instance",
    "_Feature"
   ],
   "window_display": false
  }
 },
 "nbformat": 4,
 "nbformat_minor": 2
}
