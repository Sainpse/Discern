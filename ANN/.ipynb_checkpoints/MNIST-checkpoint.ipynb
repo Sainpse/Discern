{
 "cells": [
  {
   "cell_type": "markdown",
   "metadata": {
    "slideshow": {
     "slide_type": "slide"
    }
   },
   "source": [
    "### MNIST Digits Classification\n",
    "#### Author: Marcus Madumo\n",
    "\n"
   ]
  },
  {
   "cell_type": "markdown",
   "metadata": {},
   "source": [
    "#### Load Data"
   ]
  },
  {
   "cell_type": "code",
   "execution_count": 1,
   "metadata": {
    "ExecuteTime": {
     "end_time": "2018-08-09T16:22:50.589564Z",
     "start_time": "2018-08-09T16:22:42.081991Z"
    }
   },
   "outputs": [],
   "source": [
    "import pandas as pd\n",
    "import pickle\n",
    "import scipy as sc\n",
    "from scipy import misc\n",
    "import os\n",
    "import random\n",
    "import numpy as np\n",
    "import matplotlib.pyplot as plt\n",
    "\n",
    "\n",
    "dataPath_Train = os.path.join(\"..\", \"Datasets\",\"mnist\",\"mnist_train.csv\")\n",
    "dataPath_Test  = os.path.join(\"..\", \"Datasets\",\"mnist\",\"mnist_test.csv\")\n",
    "\n",
    "## Reading the csv into a dataframe  usually for cleaning and exploring the data \n",
    "# @--Better use machine learning studio--@\n",
    "df_Train = pd.read_csv(dataPath_Train, header=None)\n",
    "df_Test = pd.read_csv(dataPath_Test, header=None)\n",
    "\n",
    "\"\"\"\" \n",
    " Pre-Processing\n",
    " Convert into numpy array representation when all is preprocessed\n",
    " Y = labels\n",
    " X = Features\n",
    " transposing the matrices to make examples columns instead of rows\n",
    "\"\"\"\"\"\n",
    "Train = df_Train.as_matrix()\n",
    "Test  = df_Test.as_matrix()\n",
    "#Labels\n",
    "Y_Train = Train[0:,0]    \n",
    "Y_Test  = Test[0:,0]\n",
    "#Features\n",
    "X_Train = np.transpose(Train[:,1:])\n",
    "X_Test  = np.transpose(Test[:,1:])"
   ]
  },
  {
   "cell_type": "code",
   "execution_count": 2,
   "metadata": {
    "ExecuteTime": {
     "end_time": "2018-08-09T16:22:56.804191Z",
     "start_time": "2018-08-09T16:22:56.782707Z"
    },
    "slideshow": {
     "slide_type": "fragment"
    }
   },
   "outputs": [],
   "source": [
    "from NeuralNetworks import ANN"
   ]
  },
  {
   "cell_type": "markdown",
   "metadata": {},
   "source": [
    "### Preview dimensions and feature values"
   ]
  },
  {
   "cell_type": "code",
   "execution_count": 3,
   "metadata": {
    "ExecuteTime": {
     "end_time": "2018-08-09T16:23:03.127765Z",
     "start_time": "2018-08-09T16:23:02.935428Z"
    }
   },
   "outputs": [
    {
     "name": "stdout",
     "output_type": "stream",
     "text": [
      "Preview of Labels Dimensions\n",
      "[5 0 4 ... 5 6 8]\n",
      "(60000,)\n",
      "Preview Features Dimensions\n",
      "[[0 0 0 ... 0 0 0]\n",
      " [0 0 0 ... 0 0 0]\n",
      " [0 0 0 ... 0 0 0]\n",
      " ...\n",
      " [0 0 0 ... 0 0 0]\n",
      " [0 0 0 ... 0 0 0]\n",
      " [0 0 0 ... 0 0 0]]\n",
      "(784, 60000)\n",
      "Sample\n"
     ]
    },
    {
     "data": {
      "text/plain": [
       "<matplotlib.image.AxesImage at 0x1e896776550>"
      ]
     },
     "execution_count": 3,
     "metadata": {},
     "output_type": "execute_result"
    },
    {
     "data": {
      "image/png": "[encoded data removed]",
      "text/plain": [
       "<Figure size 432x288 with 1 Axes>"
      ]
     },
     "metadata": {},
     "output_type": "display_data"
    }
   ],
   "source": [
    "\n",
    "#Verify shapes\n",
    "print(\"Preview of Labels Dimensions\")\n",
    "print(Y_Train)\n",
    "print(np.shape(Y_Train))\n",
    "print(\"Preview Features Dimensions\")\n",
    "print(X_Train)\n",
    "print(np.shape(X_Train))\n",
    "#Viewing sample images\n",
    "sample = X_Train[:,5].reshape(28,28)\n",
    "print(\"Sample\")\n",
    "plt.imshow(sample)"
   ]
  },
  {
   "cell_type": "markdown",
   "metadata": {},
   "source": [
    "### Initializing Network \n",
    "Network Parameters\n",
    "The number of neurons and layers in a network is defined by a list layer_dims where the length encodes the number of layers\n",
    "and its elements as number of neurons"
   ]
  },
  {
   "cell_type": "code",
   "execution_count": 11,
   "metadata": {
    "ExecuteTime": {
     "end_time": "2018-08-09T16:26:39.547598Z",
     "start_time": "2018-08-09T16:26:39.531605Z"
    }
   },
   "outputs": [],
   "source": [
    "layer_dims = np.array([784,10,30,10])\n",
    "\n",
    "#First layer has no activation function\n",
    "activations = np.array([\"\",\"relu\",\"relu\",\"softmax\"])\n",
    "#Declaring a new neural network\n",
    "neuralnetwork = ANN(layer_dims,activations=activations,batch_size=1000,optimization=\"MBGD\")\n"
   ]
  },
  {
   "cell_type": "markdown",
   "metadata": {},
   "source": [
    "### Training"
   ]
  },
  {
   "cell_type": "code",
   "execution_count": null,
   "metadata": {
    "ExecuteTime": {
     "start_time": "2018-08-09T16:29:39.812Z"
    }
   },
   "outputs": [
    {
     "name": "stdout",
     "output_type": "stream",
     "text": [
      "Training ...\n",
      "Accuracy: 18.76254963343024\n",
      "cycle 0\n"
     ]
    },
    {
     "name": "stderr",
     "output_type": "stream",
     "text": [
      "C:\\Users\\Marcus\\Desktop\\workspace\\Notebooks\\Learning\\Discern\\ANN\\NeuralNetworks.py:183: RuntimeWarning: divide by zero encountered in log\n",
      "  cost = -1*np.sum(Y*np.log(AL))/m\n",
      "C:\\Users\\Marcus\\Desktop\\workspace\\Notebooks\\Learning\\Discern\\ANN\\NeuralNetworks.py:183: RuntimeWarning: invalid value encountered in multiply\n",
      "  cost = -1*np.sum(Y*np.log(AL))/m\n",
      "C:\\Users\\Marcus\\Desktop\\workspace\\Notebooks\\Learning\\Discern\\ANN\\NeuralNetworks.py:307: RuntimeWarning: invalid value encountered in true_divide\n",
      "  dAL = np.divide(Y,AL) #Derivative of the cost function D(Y,AL) = Y*LOG(AL)\n",
      "C:\\Users\\Marcus\\Desktop\\workspace\\Notebooks\\Learning\\Discern\\ANN\\NeuralNetworks.py:307: RuntimeWarning: divide by zero encountered in true_divide\n",
      "  dAL = np.divide(Y,AL) #Derivative of the cost function D(Y,AL) = Y*LOG(AL)\n"
     ]
    },
    {
     "name": "stdout",
     "output_type": "stream",
     "text": [
      "Accuracy: -72.02315302889014\n",
      "cycle 1000\n"
     ]
    },
    {
     "name": "stderr",
     "output_type": "stream",
     "text": [
      "C:\\Users\\Marcus\\Desktop\\workspace\\Notebooks\\Learning\\Discern\\ANN\\activations.py:28: RuntimeWarning: invalid value encountered in true_divide\n",
      "  activation = exp/(np.sum(exp, axis=0))\n",
      "C:\\Users\\Marcus\\Desktop\\workspace\\Notebooks\\Learning\\Discern\\ANN\\activations.py:22: RuntimeWarning: invalid value encountered in maximum\n",
      "  activation = np.maximum(Z, 0)\n",
      "C:\\Users\\Marcus\\Anaconda3\\lib\\site-packages\\numpy\\core\\_methods.py:26: RuntimeWarning: invalid value encountered in reduce\n",
      "  return umr_maximum(a, axis, None, out, keepdims)\n",
      "C:\\Users\\Marcus\\Desktop\\workspace\\Notebooks\\Learning\\Discern\\ANN\\NeuralNetworks.py:227: RuntimeWarning: invalid value encountered in greater\n",
      "  Z[Z>0] = 1\n",
      "C:\\Users\\Marcus\\Desktop\\workspace\\Notebooks\\Learning\\Discern\\ANN\\NeuralNetworks.py:228: RuntimeWarning: invalid value encountered in less\n",
      "  Z[Z<0] = 0.01\n"
     ]
    },
    {
     "name": "stdout",
     "output_type": "stream",
     "text": [
      "Accuracy: nan\n",
      "cycle 2000\n"
     ]
    }
   ],
   "source": [
    "print(\"Training ...\")\n",
    "Y_encoded = neuralnetwork.one_hot_encoding(Y_Train)\n",
    "neuralnetwork.train(X_Train,Y_encoded,3000, 0.001, print_count = 1000)"
   ]
  },
  {
   "cell_type": "markdown",
   "metadata": {},
   "source": [
    "### Test"
   ]
  },
  {
   "cell_type": "code",
   "execution_count": 6,
   "metadata": {
    "ExecuteTime": {
     "end_time": "2018-08-09T16:24:16.852720Z",
     "start_time": "2018-08-09T16:24:16.206733Z"
    },
    "code_folding": [],
    "scrolled": true
   },
   "outputs": [
    {
     "data": {
      "image/png": "[encoded data removed]",
      "text/plain": [
       "<Figure size 432x288 with 1 Axes>"
      ]
     },
     "metadata": {},
     "output_type": "display_data"
    },
    {
     "name": "stdout",
     "output_type": "stream",
     "text": [
      "[[0.15087892]\n",
      " [0.05267576]\n",
      " [0.08330361]\n",
      " [0.13889762]\n",
      " [0.08684814]\n",
      " [0.11410871]\n",
      " [0.05665113]\n",
      " [0.11330449]\n",
      " [0.08722779]\n",
      " [0.11610383]]\n"
     ]
    },
    {
     "data": {
      "image/png": "[encoded data removed]",
      "text/plain": [
       "<Figure size 432x288 with 1 Axes>"
      ]
     },
     "metadata": {},
     "output_type": "display_data"
    },
    {
     "name": "stdout",
     "output_type": "stream",
     "text": [
      "[[0.07330136]\n",
      " [0.29967808]\n",
      " [0.0979191 ]\n",
      " [0.06401379]\n",
      " [0.03390816]\n",
      " [0.06296225]\n",
      " [0.20501591]\n",
      " [0.0329789 ]\n",
      " [0.09692295]\n",
      " [0.0332995 ]]\n"
     ]
    },
    {
     "data": {
      "image/png": "[encoded data removed]",
      "text/plain": [
       "<Figure size 432x288 with 1 Axes>"
      ]
     },
     "metadata": {},
     "output_type": "display_data"
    },
    {
     "name": "stdout",
     "output_type": "stream",
     "text": [
      "[[0.08252155]\n",
      " [0.04758927]\n",
      " [0.06530835]\n",
      " [0.09052071]\n",
      " [0.1460051 ]\n",
      " [0.07997018]\n",
      " [0.0473509 ]\n",
      " [0.14305265]\n",
      " [0.06877512]\n",
      " [0.22890618]]\n"
     ]
    },
    {
     "data": {
      "image/png": "[encoded data removed]",
      "text/plain": [
       "<Figure size 432x288 with 1 Axes>"
      ]
     },
     "metadata": {},
     "output_type": "display_data"
    },
    {
     "name": "stdout",
     "output_type": "stream",
     "text": [
      "[[0.09298319]\n",
      " [0.19070967]\n",
      " [0.1344421 ]\n",
      " [0.08442609]\n",
      " [0.04865912]\n",
      " [0.07629237]\n",
      " [0.16740789]\n",
      " [0.04359254]\n",
      " [0.11332601]\n",
      " [0.04816101]]\n"
     ]
    },
    {
     "data": {
      "image/png": "[encoded data removed]",
      "text/plain": [
       "<Figure size 432x288 with 1 Axes>"
      ]
     },
     "metadata": {},
     "output_type": "display_data"
    },
    {
     "name": "stdout",
     "output_type": "stream",
     "text": [
      "[[0.15448342]\n",
      " [0.09504425]\n",
      " [0.09201383]\n",
      " [0.13584375]\n",
      " [0.06400137]\n",
      " [0.11378426]\n",
      " [0.09200418]\n",
      " [0.07376359]\n",
      " [0.10293397]\n",
      " [0.07612737]]\n"
     ]
    }
   ],
   "source": [
    "#Viewing sample images\n",
    "samples = np.array([])\n",
    "samples = [X_Test[:,random.randint(0, X_Test.shape[1])] for i in range(5)]\n",
    "for s in samples:\n",
    "    plt.imshow(s.reshape(28,28))\n",
    "    plt.show()\n",
    "    print(neuralnetwork.predict(s.reshape(784,1)))"
   ]
  },
  {
   "cell_type": "markdown",
   "metadata": {},
   "source": [
    "### Plotting how the gradient improved over time for both batch and mini batch gradient descent"
   ]
  },
  {
   "cell_type": "code",
   "execution_count": null,
   "metadata": {
    "ExecuteTime": {
     "end_time": "2018-08-09T16:16:57.889473Z",
     "start_time": "2018-08-09T16:16:20.598Z"
    }
   },
   "outputs": [],
   "source": [
    "bgd_acc = pickle.load(open( \"BGD.pkl\", \"rb\"))\n",
    "mbgd_acc = pickle.load(open(\"MBGD.pkl\", \"rb\"))\n",
    "\n",
    "\n",
    "plt.plot(mbgd_acc, \"blue\", label=\"mbgd\")\n",
    "plt.plot(bgd_acc, \"orange\", label=\"bgd\")\n",
    "plt.legend(loc=\"upper right\")\n",
    "plt.show()"
   ]
  },
  {
   "cell_type": "code",
   "execution_count": null,
   "metadata": {
    "ExecuteTime": {
     "end_time": "2018-08-09T16:16:57.889473Z",
     "start_time": "2018-08-09T16:16:20.613Z"
    }
   },
   "outputs": [],
   "source": [
    "for x in reversed(range(10)):\n",
    "    print(x)"
   ]
  },
  {
   "cell_type": "code",
   "execution_count": null,
   "metadata": {
    "ExecuteTime": {
     "end_time": "2018-08-09T16:16:57.889473Z",
     "start_time": "2018-08-09T16:16:20.626Z"
    }
   },
   "outputs": [],
   "source": [
    "import math"
   ]
  },
  {
   "cell_type": "code",
   "execution_count": null,
   "metadata": {
    "ExecuteTime": {
     "end_time": "2018-08-09T16:16:57.889473Z",
     "start_time": "2018-08-09T16:16:20.637Z"
    }
   },
   "outputs": [],
   "source": [
    "x = np.random.rand(5,5)\n",
    "np.exp(x)"
   ]
  },
  {
   "cell_type": "code",
   "execution_count": null,
   "metadata": {
    "ExecuteTime": {
     "end_time": "2018-08-09T16:16:57.904687Z",
     "start_time": "2018-08-09T16:16:20.645Z"
    }
   },
   "outputs": [],
   "source": [
    "np.exp(4)\n"
   ]
  },
  {
   "cell_type": "code",
   "execution_count": null,
   "metadata": {
    "ExecuteTime": {
     "end_time": "2018-08-09T16:16:57.908687Z",
     "start_time": "2018-08-09T16:16:20.717Z"
    }
   },
   "outputs": [],
   "source": [
    "math.exp(4)"
   ]
  },
  {
   "cell_type": "code",
   "execution_count": null,
   "metadata": {},
   "outputs": [],
   "source": []
  }
 ],
 "metadata": {
  "anaconda-cloud": {},
  "kernelspec": {
   "display_name": "Python 3",
   "language": "python",
   "name": "python3"
  },
  "language_info": {
   "codemirror_mode": {
    "name": "ipython",
    "version": 3
   },
   "file_extension": ".py",
   "mimetype": "text/x-python",
   "name": "python",
   "nbconvert_exporter": "python",
   "pygments_lexer": "ipython3",
   "version": "3.6.4"
  },
  "toc": {
   "base_numbering": 1,
   "nav_menu": {},
   "number_sections": true,
   "sideBar": true,
   "skip_h1_title": false,
   "title_cell": "",
   "title_sidebar": "",
   "toc_cell": false,
   "toc_position": {},
   "toc_section_display": true,
   "toc_window_display": false
  },
  "varInspector": {
   "cols": {
    "lenName": 16,
    "lenType": 16,
    "lenVar": 40
   },
   "kernels_config": {
    "python": {
     "delete_cmd_postfix": "",
     "delete_cmd_prefix": "del ",
     "library": "var_list.py",
     "varRefreshCmd": "print(var_dic_list())"
    },
    "r": {
     "delete_cmd_postfix": ") ",
     "delete_cmd_prefix": "rm(",
     "library": "var_list.r",
     "varRefreshCmd": "cat(var_dic_list()) "
    }
   },
   "types_to_exclude": [
    "module",
    "function",
    "builtin_function_or_method",
    "instance",
    "_Feature"
   ],
   "window_display": false
  }
 },
 "nbformat": 4,
 "nbformat_minor": 2
}
